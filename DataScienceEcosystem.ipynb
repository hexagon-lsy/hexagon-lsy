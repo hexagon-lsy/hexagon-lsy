{
 "cells": [
  {
   "cell_type": "code",
   "execution_count": null,
   "id": "6556ff9a-3edc-40f0-b309-f11cf2d9619a",
   "metadata": {},
   "outputs": [],
   "source": [
    "# Data Science Tools and Ecosystem"
   ]
  },
  {
   "cell_type": "code",
   "execution_count": null,
   "id": "1bac8b6b-a590-407f-bded-41e8ae6924ae",
   "metadata": {},
   "outputs": [],
   "source": [
    "# In this notebook, Data Science Tools and Ecosystem are summarized."
   ]
  },
  {
   "cell_type": "code",
   "execution_count": null,
   "id": "1db985ce-e357-4723-8152-4008abb81c4d",
   "metadata": {},
   "outputs": [],
   "source": [
    "# Some of the popular languages that Data Scientists use\n",
    "# Some of the commonly used libraries used by Data Scientists\n",
    "# a simple arithmetic expression to mutiply then add integers"
   ]
  },
  {
   "cell_type": "code",
   "execution_count": null,
   "id": "891e59d5-7a71-409a-b431-84466f43b591",
   "metadata": {},
   "outputs": [],
   "source": [
    "# Some of the popular languages that Data Scientists use are: python, R, SQL"
   ]
  },
  {
   "cell_type": "code",
   "execution_count": null,
   "id": "d271d14f-0b48-41db-81f0-5eb6824856e3",
   "metadata": {},
   "outputs": [],
   "source": [
    "# Some of the commonly used libraries used by Data Scientists include: numpy, pandas, scipy"
   ]
  },
  {
   "cell_type": "code",
   "execution_count": 4,
   "id": "3b196ab5-ade1-47e8-a5f4-b7c9e5b2efe0",
   "metadata": {
    "tags": []
   },
   "outputs": [],
   "source": [
    "Data_Science_Tools <- list('Data Science Tools', 'Anaconda', 'Pycharm', 'Flask')"
   ]
  },
  {
   "cell_type": "code",
   "execution_count": null,
   "id": "740d3abb-4770-46c5-ae93-a483bd9fad30",
   "metadata": {},
   "outputs": [],
   "source": [
    "# Below are a few examples of evaluating arithmetic expressions in Python"
   ]
  },
  {
   "cell_type": "code",
   "execution_count": 5,
   "id": "23ee2b04-85bc-4c65-ba1d-7cb3cb68b8ec",
   "metadata": {
    "tags": []
   },
   "outputs": [
    {
     "data": {
      "text/html": [
       "17"
      ],
      "text/latex": [
       "17"
      ],
      "text/markdown": [
       "17"
      ],
      "text/plain": [
       "[1] 17"
      ]
     },
     "metadata": {},
     "output_type": "display_data"
    }
   ],
   "source": [
    "# This a simple arithmetic expression to mutiply then add integers\n",
    "(3*4)+5"
   ]
  },
  {
   "cell_type": "code",
   "execution_count": 7,
   "id": "2d4b7256-28c7-4f3b-afb8-57b64387c352",
   "metadata": {
    "tags": []
   },
   "outputs": [
    {
     "data": {
      "text/html": [
       "3.33333333333333"
      ],
      "text/latex": [
       "3.33333333333333"
      ],
      "text/markdown": [
       "3.33333333333333"
      ],
      "text/plain": [
       "[1] 3.333333"
      ]
     },
     "metadata": {},
     "output_type": "display_data"
    }
   ],
   "source": [
    "# This will convert 200 minutes to hours by diving by 60\n",
    "minutes = 200\n",
    "hours = minutes / 60\n",
    "hours"
   ]
  },
  {
   "cell_type": "code",
   "execution_count": null,
   "id": "ae67b821-9dd4-4aad-ae0e-3b7c115354f4",
   "metadata": {},
   "outputs": [],
   "source": [
    "Author\n",
    "Siyang Lv"
   ]
  }
 ],
 "metadata": {
  "kernelspec": {
   "display_name": "R",
   "language": "R",
   "name": "conda-env-r-r"
  },
  "language_info": {
   "codemirror_mode": "r",
   "file_extension": ".r",
   "mimetype": "text/x-r-source",
   "name": "R",
   "pygments_lexer": "r",
   "version": "3.5.1"
  }
 },
 "nbformat": 4,
 "nbformat_minor": 5
}
